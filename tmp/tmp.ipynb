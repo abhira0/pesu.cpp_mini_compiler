{
 "cells": [
  {
   "cell_type": "code",
   "execution_count": 144,
   "metadata": {},
   "outputs": [],
   "source": [
    "import json\n",
    "from ply.lex import LexToken\n",
    "with open(\"../backend/symbol_table.json\") as f:\n",
    "    symbol_table = json.load(f)\n",
    "class CustomLexer(object):\n",
    "    def __init__(self):\n",
    "        self.var_token_gen = self.token_gen()\n",
    "    def token_gen():\n",
    "        for token in symbol_table[\"items\"]:\n",
    "            lextoken_obj = LexToken()\n",
    "            lextoken_obj.type = token[0]\n",
    "            lextoken_obj.value = token[1]\n",
    "            lextoken_obj.lineno =  token[2]\n",
    "            lextoken_obj.lexpos = token[3]\n",
    "            yield lextoken_obj\n",
    "    def token(self):\n",
    "        try:\n",
    "            ret_var = next(self.var_token_gen)\n",
    "        except StopIteration:\n",
    "            ret_var = None\n",
    "        return ret_var"
   ]
  },
  {
   "cell_type": "code",
   "execution_count": 145,
   "metadata": {},
   "outputs": [],
   "source": [
    "p = PA2Lexer()"
   ]
  },
  {
   "cell_type": "code",
   "execution_count": 148,
   "metadata": {},
   "outputs": [
    {
     "output_type": "stream",
     "name": "stdout",
     "text": [
      "LexToken(ID,'std',2,36)\n"
     ]
    }
   ],
   "source": [
    "print(p.token())"
   ]
  },
  {
   "cell_type": "code",
   "execution_count": null,
   "metadata": {},
   "outputs": [],
   "source": []
  },
  {
   "cell_type": "code",
   "execution_count": null,
   "metadata": {},
   "outputs": [],
   "source": []
  }
 ],
 "metadata": {
  "kernelspec": {
   "name": "python392jvsc74a57bd0ac59ebe37160ed0dfa835113d9b8498d9f09ceb179beaac4002f036b9467c963",
   "display_name": "Python 3.9.2 64-bit"
  },
  "language_info": {
   "codemirror_mode": {
    "name": "ipython",
    "version": 3
   },
   "file_extension": ".py",
   "mimetype": "text/x-python",
   "name": "python",
   "nbconvert_exporter": "python",
   "pygments_lexer": "ipython3",
   "version": "3.9.2"
  }
 },
 "nbformat": 4,
 "nbformat_minor": 5
}