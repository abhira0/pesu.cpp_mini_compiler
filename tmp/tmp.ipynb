{
 "cells": [
  {
   "cell_type": "code",
   "execution_count": 1,
   "metadata": {},
   "outputs": [],
   "source": [
    "import json"
   ]
  },
  {
   "cell_type": "code",
   "execution_count": 12,
   "metadata": {},
   "outputs": [],
   "source": [
    "with open(\"../backend/symbol_table.json\", \"r\") as f:\n",
    "    d = json.load(f)"
   ]
  },
  {
   "cell_type": "code",
   "execution_count": 22,
   "metadata": {},
   "outputs": [
    {
     "output_type": "stream",
     "name": "stdout",
     "text": [
      "<class 'int'> 10\n"
     ]
    }
   ],
   "source": [
    "xyz=d[\"items\"][2][1]\n",
    "print(type(xyz), xyz)"
   ]
  },
  {
   "cell_type": "code",
   "execution_count": 21,
   "metadata": {},
   "outputs": [
    {
     "output_type": "execute_result",
     "data": {
      "text/plain": [
       "{'items': [['INT', 'int', 1, 0, [1, 3]],\n",
       "  ['EQUALS', 61, 1, 4, [5, 5]],\n",
       "  ['ICONST', 10, 1, 6, [7, 8]],\n",
       "  ['SEMI', 59, 1, 8, [9, 9]],\n",
       "  ['FLOAT', 'float', 2, 10, [1, 5]],\n",
       "  ['EQUALS', 61, 2, 16, [7, 7]],\n",
       "  ['FCONST', 3141.5, 2, 18, [9, 17]],\n",
       "  ['SEMI', 59, 2, 27, [18, 18]]]}"
      ]
     },
     "metadata": {},
     "execution_count": 21
    }
   ],
   "source": [
    "d"
   ]
  },
  {
   "cell_type": "code",
   "execution_count": null,
   "metadata": {},
   "outputs": [],
   "source": []
  }
 ],
 "metadata": {
  "kernelspec": {
   "name": "python392jvsc74a57bd0ac59ebe37160ed0dfa835113d9b8498d9f09ceb179beaac4002f036b9467c963",
   "display_name": "Python 3.9.2 64-bit"
  },
  "language_info": {
   "codemirror_mode": {
    "name": "ipython",
    "version": 3
   },
   "file_extension": ".py",
   "mimetype": "text/x-python",
   "name": "python",
   "nbconvert_exporter": "python",
   "pygments_lexer": "ipython3",
   "version": "3.9.2"
  }
 },
 "nbformat": 4,
 "nbformat_minor": 5
}